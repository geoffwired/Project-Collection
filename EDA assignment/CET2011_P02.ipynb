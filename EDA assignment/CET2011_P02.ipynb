{
 "cells": [
  {
   "cell_type": "markdown",
   "metadata": {},
   "source": [
    "Trainee Name:   <br>\n",
    "Trainee Email:   <br>\n",
    "Date Submitted: "
   ]
  },
  {
   "cell_type": "markdown",
   "metadata": {},
   "source": [
    "# Python Practicum 2 - EDA with Python Libraries"
   ]
  },
  {
   "cell_type": "markdown",
   "metadata": {},
   "source": [
    "This practicum comprises 2 sections which require the use of 2 different datasets.\n",
    "\n",
    "<br>\n",
    "\n",
    "<u>**1. International Monetary Fund**</u><br>\n",
    "\n",
    "Uses the excel file called `WEOApr2020all.xlsx`. This file was obtained  from the [**International Monetary Fund**](https://www.imf.org/external/pubs/ft/weo/2020/01/weodata/index.aspx) and it contains data from the World Economic Outlook that pertains to national accounts, inflation, unemployment rates, balance of payments, fiscal indicators, trade for countries and country groups (aggregates), and commodity prices whose data are reported by the IMF.\n",
    "\n",
    "**Note:** The data is in a tabular format and **delimited** with a **tab** as a separator. \n",
    "\n",
    "<br>\n",
    "\n",
    "<u>**2. AirBnB Open Data - New York City**</u><br>\n",
    "\n",
    "Uses the CSV file called `AB_NYC_2019.csv`. This file was obtained from [Kaggle.com](https://www.kaggle.com/dgomonov/new-york-city-airbnb-open-data) and it contains data that pertains to hosts, geographical availability, etc.\n",
    "\n",
    "**Note:** The data is in a tabular format and **delimited** with a **comma** as a separator. \n",
    "\n",
    "<br>\n",
    "\n",
    "You are encouraged to open the file in a spreadsheet program to examine the data. Your task is to use Python and the following list of libraries to code the processes defined by the questions. **Leave in the relevant codes used for testing but comment them out before submission.** You are also encouraged to use as many code cells as necessary to complete the tasks.\n",
    "\n",
    "**Note**: Take care not to overwrite your loaded dataset.\n",
    "\n",
    "**Permissible Libraries**\n",
    "* Pandas\n",
    "* NumPy\n",
    "* Matplotlib\n",
    "\n",
    "**Deliverables**:\n",
    "- Follow the instructions as detailed in this file.\n",
    "- Do not modify any cell within this file unless otherwise stated.\n",
    "- Once you have completed this assignment, navigate to `Kernel` in the menu and click on `Restart Kernel and Run All Cells...`. You are to ensure that each cell has been completed and that they run without errors.\n",
    "- Before submitting, click on `Restart Kernel and Clear All Outputs...`. Then, zip all files in the format `CET2011_P02_<student_name>.zip`. \n",
    "- Failure to do so will be awarded **ZERO** marks.\n",
    "\n",
    "---"
   ]
  },
  {
   "cell_type": "markdown",
   "metadata": {},
   "source": [
    "## General Part\n",
    "\n",
    "Load the required libraries **(3 marks)**"
   ]
  },
  {
   "cell_type": "code",
   "execution_count": null,
   "metadata": {},
   "outputs": [],
   "source": []
  },
  {
   "cell_type": "markdown",
   "metadata": {},
   "source": [
    "---\n",
    "## International Monetary Fund\n",
    "\n",
    "**Q1)** Load the data into memory using Pandas; perform a preliminary first clean of the data and return this data. **(6 marks)**\n",
    " * Perform standard checks such as missing data, datatypes, etc.\n",
    " * Ensure that the column names are of the same datatype 'string'.\n",
    " * Rows that are not required can be removed."
   ]
  },
  {
   "cell_type": "code",
   "execution_count": null,
   "metadata": {
    "scrolled": true
   },
   "outputs": [],
   "source": []
  },
  {
   "cell_type": "code",
   "execution_count": null,
   "metadata": {},
   "outputs": [],
   "source": []
  },
  {
   "cell_type": "code",
   "execution_count": null,
   "metadata": {},
   "outputs": [],
   "source": []
  },
  {
   "cell_type": "markdown",
   "metadata": {},
   "source": [
    "**Q2)** Using an appropriate graph, visualize the unemployment rates from 2010 - 2019 for the 5 countries with the highest mean unemployment rates over these 10 years. **(15 marks)**\n",
    "\n",
    "- Assume all `NaN` values are 0s (i.e. change all `NaN` values to 0).   \n",
    "- A properly labeled figure of size (13 by 10) must be displayed as the end result at the last code cell of this question.   \n",
    "- Save the figure with a dpi of `200` and name it `imf_plot01.png` (This file is to be submitted)."
   ]
  },
  {
   "cell_type": "code",
   "execution_count": null,
   "metadata": {},
   "outputs": [],
   "source": []
  },
  {
   "cell_type": "code",
   "execution_count": null,
   "metadata": {},
   "outputs": [],
   "source": []
  },
  {
   "cell_type": "code",
   "execution_count": null,
   "metadata": {},
   "outputs": [],
   "source": []
  },
  {
   "cell_type": "code",
   "execution_count": null,
   "metadata": {},
   "outputs": [],
   "source": []
  },
  {
   "cell_type": "code",
   "execution_count": null,
   "metadata": {},
   "outputs": [],
   "source": []
  },
  {
   "cell_type": "markdown",
   "metadata": {},
   "source": [
    "**Q3)** Using an appropriate graph, show the comparison of how SARS (2003), H1N1 (2010) and COVID-19 (2020) have affected the `Gross domestic product, constant prices` for countries around South East Asia (i.e., 'Brunei Darussalam', 'Cambodia', 'Indonesia', 'Lao P.D.R.', 'Malaysia', 'Myanmar', 'Philippines', 'Singapore', 'Thailand', 'Timor-Leste', 'Vietnam'). **(35 marks)**\n",
    "\n",
    "- Your graph should be properly annotated and numerical values should be formatted to 2 decimal places.   \n",
    "- A properly labeled figure of size (15 by 10) must be displayed as the end result at the last code cell of this question.   \n",
    "- Save the figure with a dpi of `200` and name it `imf_plot02.png` (This file is to be submitted).   "
   ]
  },
  {
   "cell_type": "code",
   "execution_count": null,
   "metadata": {},
   "outputs": [],
   "source": []
  },
  {
   "cell_type": "code",
   "execution_count": null,
   "metadata": {},
   "outputs": [],
   "source": []
  },
  {
   "cell_type": "markdown",
   "metadata": {},
   "source": [
    "---\n",
    "\n",
    "### AirBnB Open Data - New York City\n",
    "\n",
    "**Q1)** Load the data into memory using Pandas; perform a preliminary first clean of the data and return this data. **(3 marks)**\n",
    "* Perform standard checks such as missing data, datatypes, etc."
   ]
  },
  {
   "cell_type": "code",
   "execution_count": null,
   "metadata": {},
   "outputs": [],
   "source": []
  },
  {
   "cell_type": "code",
   "execution_count": null,
   "metadata": {},
   "outputs": [],
   "source": []
  },
  {
   "cell_type": "code",
   "execution_count": null,
   "metadata": {},
   "outputs": [],
   "source": []
  },
  {
   "cell_type": "code",
   "execution_count": null,
   "metadata": {},
   "outputs": [],
   "source": []
  },
  {
   "cell_type": "code",
   "execution_count": null,
   "metadata": {},
   "outputs": [],
   "source": []
  },
  {
   "cell_type": "markdown",
   "metadata": {},
   "source": [
    "**Q2)** Create a scatterplot based on the location (latitude and longitude values) from your dataset in Q1. This plot will represent the map of New York. **(3 marks)**\n",
    "\n",
    "- A properly labeled figure of size (15 by 10) must be displayed as the end result at the last code cell of this question.   \n",
    "- Save the figure with a dpi of `200` and name it `airbnb_plot01.png` (This file is to be submitted)."
   ]
  },
  {
   "cell_type": "code",
   "execution_count": null,
   "metadata": {},
   "outputs": [],
   "source": []
  },
  {
   "cell_type": "markdown",
   "metadata": {},
   "source": [
    "**Q3)** A young family would like to rent an entire apartment, west of Brooklyn (Red Hook, Sunset Park, Cobble Hill, Carroll Gardens and Bay Ridge) for a maximum of 2 weeks (14 nights).    \n",
    "\n",
    "To help the young couple make an informed decision, decide on an appropriate graph, and construct **a single figure of multiple subplots (3 by 2)** to display the average cost of renting an `Entire home/apt` for a maximum of 2 weeks for each neighbourhood. **(35 marks)**\n",
    "\n",
    "- Annotate the graphs with the average cost (integer value is permissible) of each stay.\n",
    "- A properly labeled figure of size (15 by 15) must be displayed as the end result at the last code cell of this question.\n",
    "- Save the figure with a dpi of `200` and name it `airbnb_plot02.png` (This file is to be submitted)."
   ]
  },
  {
   "cell_type": "code",
   "execution_count": null,
   "metadata": {},
   "outputs": [],
   "source": []
  },
  {
   "cell_type": "code",
   "execution_count": null,
   "metadata": {},
   "outputs": [],
   "source": []
  },
  {
   "cell_type": "code",
   "execution_count": null,
   "metadata": {},
   "outputs": [],
   "source": []
  },
  {
   "cell_type": "code",
   "execution_count": null,
   "metadata": {},
   "outputs": [],
   "source": []
  },
  {
   "cell_type": "code",
   "execution_count": null,
   "metadata": {},
   "outputs": [],
   "source": []
  }
 ],
 "metadata": {
  "kernelspec": {
   "display_name": "Python 3 (ipykernel)",
   "language": "python",
   "name": "python3"
  },
  "language_info": {
   "codemirror_mode": {
    "name": "ipython",
    "version": 3
   },
   "file_extension": ".py",
   "mimetype": "text/x-python",
   "name": "python",
   "nbconvert_exporter": "python",
   "pygments_lexer": "ipython3",
   "version": "3.11.1"
  }
 },
 "nbformat": 4,
 "nbformat_minor": 4
}
